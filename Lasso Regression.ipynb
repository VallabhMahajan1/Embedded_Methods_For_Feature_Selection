{
 "cells": [
  {
   "cell_type": "code",
   "execution_count": 1,
   "metadata": {},
   "outputs": [],
   "source": [
    "import numpy as np\n",
    "import pandas as pd\n",
    "import matplotlib.pyplot as plt\n",
    "%matplotlib inline"
   ]
  },
  {
   "cell_type": "code",
   "execution_count": 2,
   "metadata": {},
   "outputs": [],
   "source": [
    "data = pd.read_csv('50_Startups.csv')"
   ]
  },
  {
   "cell_type": "code",
   "execution_count": 3,
   "metadata": {},
   "outputs": [],
   "source": [
    "processed_data = pd.concat([pd.get_dummies(data.State),\n",
    "                    data.iloc[:,[0,1,2,4]] ], axis=1)"
   ]
  },
  {
   "cell_type": "code",
   "execution_count": 4,
   "metadata": {},
   "outputs": [
    {
     "data": {
      "text/html": [
       "<div>\n",
       "<style scoped>\n",
       "    .dataframe tbody tr th:only-of-type {\n",
       "        vertical-align: middle;\n",
       "    }\n",
       "\n",
       "    .dataframe tbody tr th {\n",
       "        vertical-align: top;\n",
       "    }\n",
       "\n",
       "    .dataframe thead th {\n",
       "        text-align: right;\n",
       "    }\n",
       "</style>\n",
       "<table border=\"1\" class=\"dataframe\">\n",
       "  <thead>\n",
       "    <tr style=\"text-align: right;\">\n",
       "      <th></th>\n",
       "      <th>California</th>\n",
       "      <th>Florida</th>\n",
       "      <th>New York</th>\n",
       "      <th>R&amp;D Spend</th>\n",
       "      <th>Administration</th>\n",
       "      <th>Marketing Spend</th>\n",
       "      <th>Profit</th>\n",
       "    </tr>\n",
       "  </thead>\n",
       "  <tbody>\n",
       "    <tr>\n",
       "      <th>0</th>\n",
       "      <td>0</td>\n",
       "      <td>0</td>\n",
       "      <td>1</td>\n",
       "      <td>165349.20</td>\n",
       "      <td>136897.80</td>\n",
       "      <td>471784.10</td>\n",
       "      <td>192261.83</td>\n",
       "    </tr>\n",
       "    <tr>\n",
       "      <th>1</th>\n",
       "      <td>1</td>\n",
       "      <td>0</td>\n",
       "      <td>0</td>\n",
       "      <td>162597.70</td>\n",
       "      <td>151377.59</td>\n",
       "      <td>443898.53</td>\n",
       "      <td>191792.06</td>\n",
       "    </tr>\n",
       "    <tr>\n",
       "      <th>2</th>\n",
       "      <td>0</td>\n",
       "      <td>1</td>\n",
       "      <td>0</td>\n",
       "      <td>153441.51</td>\n",
       "      <td>101145.55</td>\n",
       "      <td>407934.54</td>\n",
       "      <td>191050.39</td>\n",
       "    </tr>\n",
       "    <tr>\n",
       "      <th>3</th>\n",
       "      <td>0</td>\n",
       "      <td>0</td>\n",
       "      <td>1</td>\n",
       "      <td>144372.41</td>\n",
       "      <td>118671.85</td>\n",
       "      <td>0.00</td>\n",
       "      <td>182901.99</td>\n",
       "    </tr>\n",
       "    <tr>\n",
       "      <th>4</th>\n",
       "      <td>0</td>\n",
       "      <td>1</td>\n",
       "      <td>0</td>\n",
       "      <td>142107.34</td>\n",
       "      <td>91391.77</td>\n",
       "      <td>366168.42</td>\n",
       "      <td>166187.94</td>\n",
       "    </tr>\n",
       "  </tbody>\n",
       "</table>\n",
       "</div>"
      ],
      "text/plain": [
       "   California  Florida  New York  R&D Spend  Administration  Marketing Spend  \\\n",
       "0           0        0         1  165349.20       136897.80        471784.10   \n",
       "1           1        0         0  162597.70       151377.59        443898.53   \n",
       "2           0        1         0  153441.51       101145.55        407934.54   \n",
       "3           0        0         1  144372.41       118671.85             0.00   \n",
       "4           0        1         0  142107.34        91391.77        366168.42   \n",
       "\n",
       "      Profit  \n",
       "0  192261.83  \n",
       "1  191792.06  \n",
       "2  191050.39  \n",
       "3  182901.99  \n",
       "4  166187.94  "
      ]
     },
     "execution_count": 4,
     "metadata": {},
     "output_type": "execute_result"
    }
   ],
   "source": [
    "processed_data.head()"
   ]
  },
  {
   "cell_type": "code",
   "execution_count": 5,
   "metadata": {},
   "outputs": [],
   "source": [
    "features = processed_data.iloc[:,0:6].values\n",
    "label = processed_data.iloc[:,[6]].values"
   ]
  },
  {
   "cell_type": "code",
   "execution_count": 7,
   "metadata": {},
   "outputs": [
    {
     "name": "stdout",
     "output_type": "stream",
     "text": [
      "Test: 0.8098918763111022 Train: 0.7972308629536637 RandomState: 2\n",
      "Test: 0.8960707249694061 Train: 0.7880923701393022 RandomState: 3\n",
      "Test: 0.8404861161420452 Train: 0.78044489006211 RandomState: 8\n",
      "Test: 0.9390994649222962 Train: 0.7846435348204943 RandomState: 11\n",
      "Test: 0.8925208748085389 Train: 0.7926838654597328 RandomState: 13\n",
      "Test: 0.9447661332421543 Train: 0.7716978284629562 RandomState: 14\n",
      "Test: 0.85263505331584 Train: 0.8040037698831219 RandomState: 17\n",
      "Test: 0.8279067916878139 Train: 0.8089283285365318 RandomState: 19\n",
      "Test: 0.9262631235826904 Train: 0.7820136504951746 RandomState: 20\n",
      "Test: 0.8422792294087004 Train: 0.8046854979222857 RandomState: 22\n",
      "Test: 0.9539238962104061 Train: 0.7949543347228161 RandomState: 24\n",
      "Test: 0.8801426446037537 Train: 0.8144155872963796 RandomState: 28\n",
      "Test: 0.9465370169312691 Train: 0.7704147898216682 RandomState: 29\n",
      "Test: 0.9331211532629293 Train: 0.7734327349301605 RandomState: 31\n",
      "Test: 0.8463340609622987 Train: 0.7979513427871432 RandomState: 32\n",
      "Test: 0.9351161052993074 Train: 0.7875136483160332 RandomState: 33\n",
      "Test: 0.9232310117793837 Train: 0.7981499680901237 RandomState: 36\n",
      "Test: 0.8424757132455831 Train: 0.7998121532737479 RandomState: 37\n",
      "Test: 0.9344217578635675 Train: 0.7943356095297688 RandomState: 38\n",
      "Test: 0.9086856852024559 Train: 0.7636259546255657 RandomState: 40\n",
      "Test: 0.9387524845131988 Train: 0.7925291720685789 RandomState: 44\n",
      "Test: 0.9200276824589754 Train: 0.7996895502830895 RandomState: 49\n",
      "Test: 0.9453443593252482 Train: 0.7478184993859822 RandomState: 51\n",
      "Test: 0.8718599788569221 Train: 0.7898142505257357 RandomState: 53\n",
      "Test: 0.8648783461863102 Train: 0.7738840561207558 RandomState: 55\n",
      "Test: 0.9365433278639981 Train: 0.8125347155471065 RandomState: 57\n",
      "Test: 0.9442903369964977 Train: 0.7796047847732337 RandomState: 58\n",
      "Test: 0.9475212139575373 Train: 0.7658853424341487 RandomState: 59\n",
      "Test: 0.897584040884889 Train: 0.800474648914915 RandomState: 60\n",
      "Test: 0.939426129718057 Train: 0.7873593639072929 RandomState: 62\n",
      "Test: 0.8290359720729414 Train: 0.7942062633838004 RandomState: 63\n",
      "Test: 0.8298612297779557 Train: 0.8081985914909656 RandomState: 64\n",
      "Test: 0.878273423264139 Train: 0.7809665698121531 RandomState: 66\n",
      "Test: 0.958780163658761 Train: 0.7836543379884389 RandomState: 67\n",
      "Test: 0.9140989293204255 Train: 0.7844052535376104 RandomState: 69\n",
      "Test: 0.906517374920675 Train: 0.7964237814721127 RandomState: 70\n",
      "Test: 0.838733026726562 Train: 0.804466163612926 RandomState: 72\n",
      "Test: 0.8628288400099952 Train: 0.7845239856895717 RandomState: 73\n",
      "Test: 0.9053590572056368 Train: 0.8038947172653782 RandomState: 74\n",
      "Test: 0.949831970421991 Train: 0.7883504089515149 RandomState: 75\n",
      "Test: 0.9259257606677542 Train: 0.7944767315070921 RandomState: 82\n",
      "Test: 0.9640973735404941 Train: 0.79753335389617 RandomState: 83\n",
      "Test: 0.9665164663111194 Train: 0.7675693858923831 RandomState: 85\n",
      "Test: 0.8151939843848242 Train: 0.7932045338243172 RandomState: 87\n",
      "Test: 0.8544775133030533 Train: 0.7860721980893456 RandomState: 88\n",
      "Test: 0.8444618693555879 Train: 0.8074872316025634 RandomState: 89\n",
      "Test: 0.9039830882151039 Train: 0.786339225471602 RandomState: 92\n",
      "Test: 0.8537166923991442 Train: 0.8022197536463983 RandomState: 93\n",
      "Test: 0.9367343740162594 Train: 0.7984432291879133 RandomState: 95\n",
      "Test: 0.9521153488378219 Train: 0.745848319935287 RandomState: 97\n",
      "Test: 0.8315883679875494 Train: 0.8020914366193341 RandomState: 100\n",
      "Test: 0.8092497271351703 Train: 0.8064763640701748 RandomState: 101\n",
      "Test: 0.9093119519193087 Train: 0.769546446307291 RandomState: 103\n",
      "Test: 0.8583226859056484 Train: 0.79250955671222 RandomState: 106\n",
      "Test: 0.8342859387998705 Train: 0.8136161841287605 RandomState: 108\n",
      "Test: 0.8341861171439309 Train: 0.8117071920581376 RandomState: 115\n",
      "Test: 0.8194370722784741 Train: 0.8055888909881986 RandomState: 119\n",
      "Test: 0.8439576292407975 Train: 0.8055070576738356 RandomState: 120\n",
      "Test: 0.9730538635785296 Train: 0.7778161052862662 RandomState: 121\n",
      "Test: 0.9520539919103361 Train: 0.7783142678743413 RandomState: 126\n",
      "Test: 0.8312634215610246 Train: 0.8071725139563415 RandomState: 131\n",
      "Test: 0.9362942829731435 Train: 0.7827787172473073 RandomState: 133\n",
      "Test: 0.8095096246216156 Train: 0.8032036369286661 RandomState: 135\n",
      "Test: 0.8173024896300685 Train: 0.7657598675424664 RandomState: 137\n",
      "Test: 0.8662684031080051 Train: 0.8097790734499597 RandomState: 140\n",
      "Test: 0.9454382984115586 Train: 0.784640548308451 RandomState: 149\n"
     ]
    }
   ],
   "source": [
    "# For loop to check ideal sample that will give generalized model\n",
    "from sklearn.model_selection import train_test_split\n",
    "from sklearn.linear_model import Lasso\n",
    "\n",
    "for i in range(1,150):\n",
    "    X_train,X_test,y_train,y_test = train_test_split(features,\n",
    "                                                    label,\n",
    "                                                    test_size=0.2,\n",
    "                                                    random_state=i)\n",
    "    model=Lasso(alpha=4)\n",
    "    model.fit(X_train,y_train)\n",
    "    \n",
    "    train_score=model.score(X_train,y_train)\n",
    "    test_score=model.score(X_test,y_test)\n",
    "    \n",
    "    if test_score > train_score:\n",
    "        print(\"Test: {} Train: {} RandomState: {}\".format(test_score,train_score,i))"
   ]
  },
  {
   "cell_type": "code",
   "execution_count": 8,
   "metadata": {},
   "outputs": [
    {
     "data": {
      "text/plain": [
       "Lasso(alpha=4, copy_X=True, fit_intercept=True, max_iter=1000,\n",
       "   normalize=False, positive=False, precompute=False, random_state=None,\n",
       "   selection='cyclic', tol=0.0001, warm_start=False)"
      ]
     },
     "execution_count": 8,
     "metadata": {},
     "output_type": "execute_result"
    }
   ],
   "source": [
    "# For loop to check ideal sample that will give generalized model\n",
    "from sklearn.model_selection import train_test_split\n",
    "from sklearn.linear_model import ElasticNet\n",
    "X_train,X_test,y_train,y_test = train_test_split(features,\n",
    "                                                label,\n",
    "                                                test_size=0.2,\n",
    "                                                random_state=11)\n",
    "\n",
    "model = Lasso(alpha=4)\n",
    "model.fit(X_train,y_train)"
   ]
  },
  {
   "cell_type": "code",
   "execution_count": 10,
   "metadata": {},
   "outputs": [
    {
     "data": {
      "text/plain": [
       "0.7846435348204943"
      ]
     },
     "execution_count": 10,
     "metadata": {},
     "output_type": "execute_result"
    }
   ],
   "source": [
    "model.score(X_train,y_train)"
   ]
  },
  {
   "cell_type": "code",
   "execution_count": 27,
   "metadata": {},
   "outputs": [
    {
     "data": {
      "text/plain": [
       "0.9480948358251294"
      ]
     },
     "execution_count": 27,
     "metadata": {},
     "output_type": "execute_result"
    }
   ],
   "source": [
    "model.score(X_test,y_test)"
   ]
  },
  {
   "cell_type": "code",
   "execution_count": 28,
   "metadata": {},
   "outputs": [
    {
     "data": {
      "text/plain": [
       "0.9480948358251294"
      ]
     },
     "execution_count": 28,
     "metadata": {},
     "output_type": "execute_result"
    }
   ],
   "source": [
    "from sklearn.metrics import r2_score\n",
    "r2_score(y_test,model.predict(X_test))"
   ]
  },
  {
   "cell_type": "code",
   "execution_count": 29,
   "metadata": {},
   "outputs": [
    {
     "data": {
      "text/plain": [
       "90231183.45523432"
      ]
     },
     "execution_count": 29,
     "metadata": {},
     "output_type": "execute_result"
    }
   ],
   "source": [
    "from sklearn.metrics import mean_squared_error\n",
    "mean_squared_error(y_test,model.predict(X_test))"
   ]
  },
  {
   "cell_type": "code",
   "execution_count": 30,
   "metadata": {},
   "outputs": [
    {
     "data": {
      "text/plain": [
       "8594.666742102047"
      ]
     },
     "execution_count": 30,
     "metadata": {},
     "output_type": "execute_result"
    }
   ],
   "source": [
    "from sklearn.metrics import mean_absolute_error\n",
    "mean_absolute_error(y_test,model.predict(X_test))"
   ]
  },
  {
   "cell_type": "code",
   "execution_count": 31,
   "metadata": {},
   "outputs": [
    {
     "data": {
      "text/plain": [
       "array([-5.46411983e+02,  1.61630201e+03, -1.04632596e+03,  6.55462016e-01,\n",
       "        4.88772533e-02,  5.87103397e-02])"
      ]
     },
     "execution_count": 31,
     "metadata": {},
     "output_type": "execute_result"
    }
   ],
   "source": [
    "model.coef_"
   ]
  },
  {
   "cell_type": "code",
   "execution_count": null,
   "metadata": {},
   "outputs": [],
   "source": []
  }
 ],
 "metadata": {
  "kernelspec": {
   "display_name": "Python 3",
   "language": "python",
   "name": "python3"
  },
  "language_info": {
   "codemirror_mode": {
    "name": "ipython",
    "version": 3
   },
   "file_extension": ".py",
   "mimetype": "text/x-python",
   "name": "python",
   "nbconvert_exporter": "python",
   "pygments_lexer": "ipython3",
   "version": "3.7.3"
  }
 },
 "nbformat": 4,
 "nbformat_minor": 2
}
